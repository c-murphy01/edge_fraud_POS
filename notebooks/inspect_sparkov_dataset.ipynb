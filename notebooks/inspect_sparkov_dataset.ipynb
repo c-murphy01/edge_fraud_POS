{
 "cells": [
  {
   "cell_type": "markdown",
   "id": "0b14992f",
   "metadata": {},
   "source": [
    "## DATA PROCESSING\n",
    "\n",
    "Clean and prepare the 'fraud_train' and 'fraud_test.csv' files from the Sparkov Simulated Transactions Dataset"
   ]
  },
  {
   "cell_type": "markdown",
   "id": "2c4d57f9",
   "metadata": {},
   "source": [
    "### Inspect initial rows\n",
    "\n",
    "First I'll look import both the 'fraudTrain.csv' and 'fraudTest.csv' files, join them together and look at the first 5 rows to see the column names, the data types, and any obvious issues"
   ]
  },
  {
   "cell_type": "code",
   "execution_count": 44,
   "id": "ec27dcdb",
   "metadata": {},
   "outputs": [
    {
     "data": {
      "text/html": [
       "<div>\n",
       "<style scoped>\n",
       "    .dataframe tbody tr th:only-of-type {\n",
       "        vertical-align: middle;\n",
       "    }\n",
       "\n",
       "    .dataframe tbody tr th {\n",
       "        vertical-align: top;\n",
       "    }\n",
       "\n",
       "    .dataframe thead th {\n",
       "        text-align: right;\n",
       "    }\n",
       "</style>\n",
       "<table border=\"1\" class=\"dataframe\">\n",
       "  <thead>\n",
       "    <tr style=\"text-align: right;\">\n",
       "      <th></th>\n",
       "      <th>Unnamed: 0</th>\n",
       "      <th>trans_date_trans_time</th>\n",
       "      <th>cc_num</th>\n",
       "      <th>merchant</th>\n",
       "      <th>category</th>\n",
       "      <th>amt</th>\n",
       "      <th>first</th>\n",
       "      <th>last</th>\n",
       "      <th>gender</th>\n",
       "      <th>street</th>\n",
       "      <th>...</th>\n",
       "      <th>lat</th>\n",
       "      <th>long</th>\n",
       "      <th>city_pop</th>\n",
       "      <th>job</th>\n",
       "      <th>dob</th>\n",
       "      <th>trans_num</th>\n",
       "      <th>unix_time</th>\n",
       "      <th>merch_lat</th>\n",
       "      <th>merch_long</th>\n",
       "      <th>is_fraud</th>\n",
       "    </tr>\n",
       "  </thead>\n",
       "  <tbody>\n",
       "    <tr>\n",
       "      <th>0</th>\n",
       "      <td>0</td>\n",
       "      <td>2019-01-01 00:00:18</td>\n",
       "      <td>2703186189652095</td>\n",
       "      <td>fraud_Rippin, Kub and Mann</td>\n",
       "      <td>misc_net</td>\n",
       "      <td>4.97</td>\n",
       "      <td>Jennifer</td>\n",
       "      <td>Banks</td>\n",
       "      <td>F</td>\n",
       "      <td>561 Perry Cove</td>\n",
       "      <td>...</td>\n",
       "      <td>36.0788</td>\n",
       "      <td>-81.1781</td>\n",
       "      <td>3495</td>\n",
       "      <td>Psychologist, counselling</td>\n",
       "      <td>1988-03-09</td>\n",
       "      <td>0b242abb623afc578575680df30655b9</td>\n",
       "      <td>1325376018</td>\n",
       "      <td>36.011293</td>\n",
       "      <td>-82.048315</td>\n",
       "      <td>0</td>\n",
       "    </tr>\n",
       "    <tr>\n",
       "      <th>1</th>\n",
       "      <td>1</td>\n",
       "      <td>2019-01-01 00:00:44</td>\n",
       "      <td>630423337322</td>\n",
       "      <td>fraud_Heller, Gutmann and Zieme</td>\n",
       "      <td>grocery_pos</td>\n",
       "      <td>107.23</td>\n",
       "      <td>Stephanie</td>\n",
       "      <td>Gill</td>\n",
       "      <td>F</td>\n",
       "      <td>43039 Riley Greens Suite 393</td>\n",
       "      <td>...</td>\n",
       "      <td>48.8878</td>\n",
       "      <td>-118.2105</td>\n",
       "      <td>149</td>\n",
       "      <td>Special educational needs teacher</td>\n",
       "      <td>1978-06-21</td>\n",
       "      <td>1f76529f8574734946361c461b024d99</td>\n",
       "      <td>1325376044</td>\n",
       "      <td>49.159047</td>\n",
       "      <td>-118.186462</td>\n",
       "      <td>0</td>\n",
       "    </tr>\n",
       "    <tr>\n",
       "      <th>2</th>\n",
       "      <td>2</td>\n",
       "      <td>2019-01-01 00:00:51</td>\n",
       "      <td>38859492057661</td>\n",
       "      <td>fraud_Lind-Buckridge</td>\n",
       "      <td>entertainment</td>\n",
       "      <td>220.11</td>\n",
       "      <td>Edward</td>\n",
       "      <td>Sanchez</td>\n",
       "      <td>M</td>\n",
       "      <td>594 White Dale Suite 530</td>\n",
       "      <td>...</td>\n",
       "      <td>42.1808</td>\n",
       "      <td>-112.2620</td>\n",
       "      <td>4154</td>\n",
       "      <td>Nature conservation officer</td>\n",
       "      <td>1962-01-19</td>\n",
       "      <td>a1a22d70485983eac12b5b88dad1cf95</td>\n",
       "      <td>1325376051</td>\n",
       "      <td>43.150704</td>\n",
       "      <td>-112.154481</td>\n",
       "      <td>0</td>\n",
       "    </tr>\n",
       "    <tr>\n",
       "      <th>3</th>\n",
       "      <td>3</td>\n",
       "      <td>2019-01-01 00:01:16</td>\n",
       "      <td>3534093764340240</td>\n",
       "      <td>fraud_Kutch, Hermiston and Farrell</td>\n",
       "      <td>gas_transport</td>\n",
       "      <td>45.00</td>\n",
       "      <td>Jeremy</td>\n",
       "      <td>White</td>\n",
       "      <td>M</td>\n",
       "      <td>9443 Cynthia Court Apt. 038</td>\n",
       "      <td>...</td>\n",
       "      <td>46.2306</td>\n",
       "      <td>-112.1138</td>\n",
       "      <td>1939</td>\n",
       "      <td>Patent attorney</td>\n",
       "      <td>1967-01-12</td>\n",
       "      <td>6b849c168bdad6f867558c3793159a81</td>\n",
       "      <td>1325376076</td>\n",
       "      <td>47.034331</td>\n",
       "      <td>-112.561071</td>\n",
       "      <td>0</td>\n",
       "    </tr>\n",
       "    <tr>\n",
       "      <th>4</th>\n",
       "      <td>4</td>\n",
       "      <td>2019-01-01 00:03:06</td>\n",
       "      <td>375534208663984</td>\n",
       "      <td>fraud_Keeling-Crist</td>\n",
       "      <td>misc_pos</td>\n",
       "      <td>41.96</td>\n",
       "      <td>Tyler</td>\n",
       "      <td>Garcia</td>\n",
       "      <td>M</td>\n",
       "      <td>408 Bradley Rest</td>\n",
       "      <td>...</td>\n",
       "      <td>38.4207</td>\n",
       "      <td>-79.4629</td>\n",
       "      <td>99</td>\n",
       "      <td>Dance movement psychotherapist</td>\n",
       "      <td>1986-03-28</td>\n",
       "      <td>a41d7549acf90789359a9aa5346dcb46</td>\n",
       "      <td>1325376186</td>\n",
       "      <td>38.674999</td>\n",
       "      <td>-78.632459</td>\n",
       "      <td>0</td>\n",
       "    </tr>\n",
       "  </tbody>\n",
       "</table>\n",
       "<p>5 rows × 23 columns</p>\n",
       "</div>"
      ],
      "text/plain": [
       "   Unnamed: 0 trans_date_trans_time            cc_num  \\\n",
       "0           0   2019-01-01 00:00:18  2703186189652095   \n",
       "1           1   2019-01-01 00:00:44      630423337322   \n",
       "2           2   2019-01-01 00:00:51    38859492057661   \n",
       "3           3   2019-01-01 00:01:16  3534093764340240   \n",
       "4           4   2019-01-01 00:03:06   375534208663984   \n",
       "\n",
       "                             merchant       category     amt      first  \\\n",
       "0          fraud_Rippin, Kub and Mann       misc_net    4.97   Jennifer   \n",
       "1     fraud_Heller, Gutmann and Zieme    grocery_pos  107.23  Stephanie   \n",
       "2                fraud_Lind-Buckridge  entertainment  220.11     Edward   \n",
       "3  fraud_Kutch, Hermiston and Farrell  gas_transport   45.00     Jeremy   \n",
       "4                 fraud_Keeling-Crist       misc_pos   41.96      Tyler   \n",
       "\n",
       "      last gender                        street  ...      lat      long  \\\n",
       "0    Banks      F                561 Perry Cove  ...  36.0788  -81.1781   \n",
       "1     Gill      F  43039 Riley Greens Suite 393  ...  48.8878 -118.2105   \n",
       "2  Sanchez      M      594 White Dale Suite 530  ...  42.1808 -112.2620   \n",
       "3    White      M   9443 Cynthia Court Apt. 038  ...  46.2306 -112.1138   \n",
       "4   Garcia      M              408 Bradley Rest  ...  38.4207  -79.4629   \n",
       "\n",
       "   city_pop                                job         dob  \\\n",
       "0      3495          Psychologist, counselling  1988-03-09   \n",
       "1       149  Special educational needs teacher  1978-06-21   \n",
       "2      4154        Nature conservation officer  1962-01-19   \n",
       "3      1939                    Patent attorney  1967-01-12   \n",
       "4        99     Dance movement psychotherapist  1986-03-28   \n",
       "\n",
       "                          trans_num   unix_time  merch_lat  merch_long  \\\n",
       "0  0b242abb623afc578575680df30655b9  1325376018  36.011293  -82.048315   \n",
       "1  1f76529f8574734946361c461b024d99  1325376044  49.159047 -118.186462   \n",
       "2  a1a22d70485983eac12b5b88dad1cf95  1325376051  43.150704 -112.154481   \n",
       "3  6b849c168bdad6f867558c3793159a81  1325376076  47.034331 -112.561071   \n",
       "4  a41d7549acf90789359a9aa5346dcb46  1325376186  38.674999  -78.632459   \n",
       "\n",
       "   is_fraud  \n",
       "0         0  \n",
       "1         0  \n",
       "2         0  \n",
       "3         0  \n",
       "4         0  \n",
       "\n",
       "[5 rows x 23 columns]"
      ]
     },
     "execution_count": 44,
     "metadata": {},
     "output_type": "execute_result"
    }
   ],
   "source": [
    "#import libraries\n",
    "import pandas as pd\n",
    "from pathlib import Path\n",
    "\n",
    "#create variable for path to files\n",
    "RAW = Path(\"../data/raw/sparkov\")\n",
    "\n",
    "#read both files\n",
    "train = pd.read_csv(RAW/\"fraudTrain.csv\", nrows=2500)\n",
    "test  = pd.read_csv(RAW/\"fraudTest.csv\",  nrows=2500)\n",
    "\n",
    "#concatonate the files and print first 5 rows\n",
    "#ignore index so we dont get duplicate indexes (as both files start with index 0)\n",
    "sample = pd.concat([train, test], ignore_index=True)\n",
    "sample.head()\n"
   ]
  },
  {
   "cell_type": "code",
   "execution_count": 45,
   "id": "59da7839",
   "metadata": {},
   "outputs": [
    {
     "data": {
      "text/plain": [
       "Unnamed: 0                 int64\n",
       "trans_date_trans_time     object\n",
       "cc_num                     int64\n",
       "merchant                  object\n",
       "category                  object\n",
       "amt                      float64\n",
       "first                     object\n",
       "last                      object\n",
       "gender                    object\n",
       "street                    object\n",
       "city                      object\n",
       "state                     object\n",
       "zip                        int64\n",
       "lat                      float64\n",
       "long                     float64\n",
       "city_pop                   int64\n",
       "job                       object\n",
       "dob                       object\n",
       "trans_num                 object\n",
       "unix_time                  int64\n",
       "merch_lat                float64\n",
       "merch_long               float64\n",
       "is_fraud                   int64\n",
       "dtype: object"
      ]
     },
     "metadata": {},
     "output_type": "display_data"
    },
    {
     "data": {
      "text/plain": [
       "Unnamed: 0               0\n",
       "trans_date_trans_time    0\n",
       "cc_num                   0\n",
       "merchant                 0\n",
       "category                 0\n",
       "amt                      0\n",
       "first                    0\n",
       "last                     0\n",
       "gender                   0\n",
       "street                   0\n",
       "city                     0\n",
       "state                    0\n",
       "zip                      0\n",
       "lat                      0\n",
       "long                     0\n",
       "city_pop                 0\n",
       "job                      0\n",
       "dob                      0\n",
       "trans_num                0\n",
       "unix_time                0\n",
       "merch_lat                0\n",
       "merch_long               0\n",
       "is_fraud                 0\n",
       "dtype: int64"
      ]
     },
     "metadata": {},
     "output_type": "display_data"
    }
   ],
   "source": [
    "#get datatypes for each column\n",
    "display(sample.dtypes)\n",
    "#check if any of the values in the data are NULL\n",
    "display(sample.isna().sum())"
   ]
  },
  {
   "cell_type": "code",
   "execution_count": 46,
   "id": "db71418d",
   "metadata": {},
   "outputs": [
    {
     "data": {
      "text/plain": [
       "category\n",
       "home              563\n",
       "kids_pets         503\n",
       "shopping_pos      450\n",
       "personal_care     415\n",
       "health_fitness    389\n",
       "gas_transport     388\n",
       "food_dining       387\n",
       "grocery_pos       368\n",
       "shopping_net      367\n",
       "entertainment     358\n",
       "misc_pos          296\n",
       "misc_net          200\n",
       "travel            174\n",
       "grocery_net       142\n",
       "Name: count, dtype: int64"
      ]
     },
     "execution_count": 46,
     "metadata": {},
     "output_type": "execute_result"
    }
   ],
   "source": [
    "#get count of each merchant category\n",
    "sample['category'].value_counts()"
   ]
  },
  {
   "cell_type": "markdown",
   "id": "28787bdb",
   "metadata": {},
   "source": [
    "### Takeaways\n",
    "\n",
    " - Categories ending in '_net', e.g. 'shopping_net', clearly indicate online transactions (card-not-present)\n",
    " - All other categories are likely card present transactions\n",
    "\n",
    "So we only want to keep the card present categories"
   ]
  },
  {
   "cell_type": "code",
   "execution_count": 47,
   "id": "5f56f610",
   "metadata": {},
   "outputs": [],
   "source": [
    "import sys, os\n",
    "module_path = os.path.abspath(os.path.join('..', 'src'))\n",
    "if module_path not in sys.path:\n",
    "    sys.path.append(module_path)\n",
    "\n",
    "from data_clean_sparkov import process_sparkov\n",
    "\n",
    "df_pos = process_sparkov()"
   ]
  },
  {
   "cell_type": "markdown",
   "id": "b312d6bf",
   "metadata": {},
   "source": [
    "### Velocity Check on Cleaned Data\n",
    "\n",
    "check the statistics about the velocity of the cleaned data and plot the histogram as with the caixa data"
   ]
  },
  {
   "cell_type": "code",
   "execution_count": 48,
   "id": "02a54f7d",
   "metadata": {},
   "outputs": [
    {
     "data": {
      "text/plain": [
       "count    1.555238e+06\n",
       "mean     1.001478e+00\n",
       "std      3.845280e-02\n",
       "min      1.000000e+00\n",
       "50%      1.000000e+00\n",
       "90%      1.000000e+00\n",
       "95%      1.000000e+00\n",
       "99%      1.000000e+00\n",
       "max      3.000000e+00\n",
       "Name: card_id, dtype: float64"
      ]
     },
     "execution_count": 48,
     "metadata": {},
     "output_type": "execute_result"
    }
   ],
   "source": [
    "df_pos[\"bucket_30s\"] = df_pos[\"timestamp\"].dt.floor(\"30s\")\n",
    "vel0 = (df_pos.groupby([\"merchant_id\",\"bucket_30s\"])\n",
    "       .card_id.nunique())\n",
    "vel0.describe(percentiles=[.90,.95,.99])"
   ]
  },
  {
   "cell_type": "code",
   "execution_count": 49,
   "id": "9eaabd2a",
   "metadata": {},
   "outputs": [
    {
     "data": {
      "image/png": "[encoded data removed]",
      "text/plain": [
       "<Figure size 800x400 with 1 Axes>"
      ]
     },
     "metadata": {},
     "output_type": "display_data"
    }
   ],
   "source": [
    "#draw histogram of velocity distribution\n",
    "import matplotlib.pyplot as plt\n",
    "vel0.plot.hist(bins=range(0, (int(vel0.max())+2)), figsize=(8,4))\n",
    "plt.xlabel(\"distinct cards / 30s at one merchant\")\n",
    "plt.title(\"Velocity distribution (card-present)\")\n",
    "plt.show()"
   ]
  },
  {
   "cell_type": "markdown",
   "id": "8e63b540",
   "metadata": {},
   "source": [
    "### What was learned\n",
    "\n",
    " - This Sparkov data showed that the 99 th percentile is ≤ 2 merchants/card\n",
    "  and the maximum unique cards in a minute is 3  \n",
    " - This shows that natural card burst patterns are very rare in this\n",
    "  dataset\n",
    " - Synthetic spikes will have to be added to it\n",
    " - Spikes will be added to build a baseline detector and the detector will use the Caixa data for false positive testing"
   ]
  },
  {
   "cell_type": "markdown",
   "id": "0292bdf8",
   "metadata": {},
   "source": [
    "### Inject Spikes and Bursts into data\n",
    "\n",
    "Using the insert_spikes_to_data function from the inset_spike.py file, artificial merchant velocity spikes and card bursts are injected into the code. Then the velocity is retested to ensure the data will now allow a baseline detector to be made."
   ]
  },
  {
   "cell_type": "code",
   "execution_count": 50,
   "id": "f1a9156b",
   "metadata": {},
   "outputs": [
    {
     "name": "stdout",
     "output_type": "stream",
     "text": [
      "sparkov_spikes.csv rows: 1558690\n"
     ]
    },
    {
     "data": {
      "text/html": [
       "<div>\n",
       "<style scoped>\n",
       "    .dataframe tbody tr th:only-of-type {\n",
       "        vertical-align: middle;\n",
       "    }\n",
       "\n",
       "    .dataframe tbody tr th {\n",
       "        vertical-align: top;\n",
       "    }\n",
       "\n",
       "    .dataframe thead th {\n",
       "        text-align: right;\n",
       "    }\n",
       "</style>\n",
       "<table border=\"1\" class=\"dataframe\">\n",
       "  <thead>\n",
       "    <tr style=\"text-align: right;\">\n",
       "      <th></th>\n",
       "      <th>merchant_id</th>\n",
       "      <th>bucket_30s</th>\n",
       "    </tr>\n",
       "  </thead>\n",
       "  <tbody>\n",
       "    <tr>\n",
       "      <th>0</th>\n",
       "      <td>fraud_Harber Inc</td>\n",
       "      <td>2019-07-12 11:29:30</td>\n",
       "    </tr>\n",
       "    <tr>\n",
       "      <th>1</th>\n",
       "      <td>fraud_Bradtke, Torp and Bahringer</td>\n",
       "      <td>2019-12-06 15:26:30</td>\n",
       "    </tr>\n",
       "    <tr>\n",
       "      <th>2</th>\n",
       "      <td>fraud_Wisozk and Sons</td>\n",
       "      <td>2020-05-31 01:33:00</td>\n",
       "    </tr>\n",
       "    <tr>\n",
       "      <th>3</th>\n",
       "      <td>fraud_Nolan-Williamson</td>\n",
       "      <td>2019-09-23 23:26:30</td>\n",
       "    </tr>\n",
       "    <tr>\n",
       "      <th>4</th>\n",
       "      <td>fraud_Stiedemann Inc</td>\n",
       "      <td>2020-01-12 00:52:30</td>\n",
       "    </tr>\n",
       "  </tbody>\n",
       "</table>\n",
       "</div>"
      ],
      "text/plain": [
       "                         merchant_id          bucket_30s\n",
       "0                   fraud_Harber Inc 2019-07-12 11:29:30\n",
       "1  fraud_Bradtke, Torp and Bahringer 2019-12-06 15:26:30\n",
       "2              fraud_Wisozk and Sons 2020-05-31 01:33:00\n",
       "3             fraud_Nolan-Williamson 2019-09-23 23:26:30\n",
       "4               fraud_Stiedemann Inc 2020-01-12 00:52:30"
      ]
     },
     "metadata": {},
     "output_type": "display_data"
    },
    {
     "data": {
      "text/html": [
       "<div>\n",
       "<style scoped>\n",
       "    .dataframe tbody tr th:only-of-type {\n",
       "        vertical-align: middle;\n",
       "    }\n",
       "\n",
       "    .dataframe tbody tr th {\n",
       "        vertical-align: top;\n",
       "    }\n",
       "\n",
       "    .dataframe thead th {\n",
       "        text-align: right;\n",
       "    }\n",
       "</style>\n",
       "<table border=\"1\" class=\"dataframe\">\n",
       "  <thead>\n",
       "    <tr style=\"text-align: right;\">\n",
       "      <th></th>\n",
       "      <th>card_id</th>\n",
       "      <th>burst_start</th>\n",
       "    </tr>\n",
       "  </thead>\n",
       "  <tbody>\n",
       "    <tr>\n",
       "      <th>0</th>\n",
       "      <td>CBURST87831782831</td>\n",
       "      <td>2019-02-26 10:23:52</td>\n",
       "    </tr>\n",
       "    <tr>\n",
       "      <th>1</th>\n",
       "      <td>CBURST95181920240</td>\n",
       "      <td>2020-12-20 21:23:06</td>\n",
       "    </tr>\n",
       "    <tr>\n",
       "      <th>2</th>\n",
       "      <td>CBURST35766694374</td>\n",
       "      <td>2020-08-20 17:47:28</td>\n",
       "    </tr>\n",
       "    <tr>\n",
       "      <th>3</th>\n",
       "      <td>CBURST46785999942</td>\n",
       "      <td>2019-12-30 22:35:18</td>\n",
       "    </tr>\n",
       "    <tr>\n",
       "      <th>4</th>\n",
       "      <td>CBURST32345127539</td>\n",
       "      <td>2020-06-22 20:33:41</td>\n",
       "    </tr>\n",
       "  </tbody>\n",
       "</table>\n",
       "</div>"
      ],
      "text/plain": [
       "             card_id         burst_start\n",
       "0  CBURST87831782831 2019-02-26 10:23:52\n",
       "1  CBURST95181920240 2020-12-20 21:23:06\n",
       "2  CBURST35766694374 2020-08-20 17:47:28\n",
       "3  CBURST46785999942 2019-12-30 22:35:18\n",
       "4  CBURST32345127539 2020-06-22 20:33:41"
      ]
     },
     "metadata": {},
     "output_type": "display_data"
    }
   ],
   "source": [
    "import sys, os, importlib\n",
    "module_path = os.path.abspath(os.path.join('..', 'src'))\n",
    "if module_path not in sys.path:\n",
    "    sys.path.append(module_path)\n",
    "\n",
    "from insert_spike import insert_spikes_to_data\n",
    "\n",
    "df_spiked, truth_m, truth_c = insert_spikes_to_data(df_pos, 50, 50, 15, 30, 2, 1, 13, 7,)\n",
    "\n",
    "PRO = Path(\"../data/processed\")\n",
    "df_spiked.to_csv(PRO / \"sparkov_spikes.csv\", index=False)\n",
    "truth_m.to_csv(PRO / \"synth_truth_merchant.csv\", index=False)\n",
    "truth_c.to_csv(PRO / \"synth_truth_card.csv\", index=False)\n",
    "\n",
    "print(\"sparkov_spikes.csv rows:\", len(df_spiked))\n",
    "display(truth_m.head())\n",
    "display(truth_c.head())"
   ]
  },
  {
   "cell_type": "code",
   "execution_count": 51,
   "id": "1fb25527",
   "metadata": {},
   "outputs": [
    {
     "data": {
      "text/plain": [
       "count    1.555442e+06\n",
       "mean     1.001960e+00\n",
       "std      9.332439e-02\n",
       "min      1.000000e+00\n",
       "50%      1.000000e+00\n",
       "90%      1.000000e+00\n",
       "95%      1.000000e+00\n",
       "99%      1.000000e+00\n",
       "max      1.600000e+01\n",
       "Name: card_id, dtype: float64"
      ]
     },
     "execution_count": 51,
     "metadata": {},
     "output_type": "execute_result"
    }
   ],
   "source": [
    "df_spiked[\"bucket_30s\"] = df_spiked[\"timestamp\"].dt.floor(\"30s\")\n",
    "vel1 = (df_spiked.groupby([\"merchant_id\",\"bucket_30s\"])\n",
    "       .card_id.nunique())\n",
    "vel1.describe(percentiles=[.90,.95,.99])"
   ]
  },
  {
   "cell_type": "code",
   "execution_count": 52,
   "id": "a15cd3ce",
   "metadata": {},
   "outputs": [
    {
     "data": {
      "image/png": "[encoded data removed]",
      "text/plain": [
       "<Figure size 800x400 with 1 Axes>"
      ]
     },
     "metadata": {},
     "output_type": "display_data"
    }
   ],
   "source": [
    "#draw histogram of velocity distribution\n",
    "import matplotlib.pyplot as plt\n",
    "vel1.plot.hist(bins=range(0, int(vel1.max()+2)), figsize=(8,4))\n",
    "plt.xlabel(\"distinct cards / 30s at one merchant\")\n",
    "plt.title(\"Velocity distribution (card-present)\")\n",
    "plt.show()"
   ]
  },
  {
   "cell_type": "markdown",
   "id": "edab23f0",
   "metadata": {},
   "source": [
    "### OUTCOME\n",
    "\n",
    "Now we can see that the max distinct cards per bucket is 16, allowing us to run baseline velocity spike tests"
   ]
  }
 ],
 "metadata": {
  "kernelspec": {
   "display_name": ".venv (3.11.13)",
   "language": "python",
   "name": "python3"
  },
  "language_info": {
   "codemirror_mode": {
    "name": "ipython",
    "version": 3
   },
   "file_extension": ".py",
   "mimetype": "text/x-python",
   "name": "python",
   "nbconvert_exporter": "python",
   "pygments_lexer": "ipython3",
   "version": "3.11.13"
  }
 },
 "nbformat": 4,
 "nbformat_minor": 5
}
