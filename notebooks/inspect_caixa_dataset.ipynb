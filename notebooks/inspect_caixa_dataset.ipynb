{
 "cells": [
  {
   "cell_type": "markdown",
   "id": "5e22f94e",
   "metadata": {},
   "source": [
    "## DATA PROCESSING\n",
    "\n",
    "Clean and prepare the 'transactions_data.csv' file from the Caixa Bank Real World Dataset"
   ]
  },
  {
   "cell_type": "markdown",
   "id": "1d19bb48",
   "metadata": {},
   "source": [
    "### Inspect initial rows\n",
    "\n",
    "First I'll look at the first 5,000 rows from the 'transactions_data.csv' file\n",
    "to see all of its column names, the data types, and any obvious issues"
   ]
  },
  {
   "cell_type": "code",
   "execution_count": 1,
   "id": "b0af917a",
   "metadata": {},
   "outputs": [
    {
     "data": {
      "text/html": [
       "<div>\n",
       "<style scoped>\n",
       "    .dataframe tbody tr th:only-of-type {\n",
       "        vertical-align: middle;\n",
       "    }\n",
       "\n",
       "    .dataframe tbody tr th {\n",
       "        vertical-align: top;\n",
       "    }\n",
       "\n",
       "    .dataframe thead th {\n",
       "        text-align: right;\n",
       "    }\n",
       "</style>\n",
       "<table border=\"1\" class=\"dataframe\">\n",
       "  <thead>\n",
       "    <tr style=\"text-align: right;\">\n",
       "      <th></th>\n",
       "      <th>id</th>\n",
       "      <th>date</th>\n",
       "      <th>client_id</th>\n",
       "      <th>card_id</th>\n",
       "      <th>amount</th>\n",
       "      <th>use_chip</th>\n",
       "      <th>merchant_id</th>\n",
       "      <th>merchant_city</th>\n",
       "      <th>merchant_state</th>\n",
       "      <th>zip</th>\n",
       "      <th>mcc</th>\n",
       "      <th>errors</th>\n",
       "    </tr>\n",
       "  </thead>\n",
       "  <tbody>\n",
       "    <tr>\n",
       "      <th>0</th>\n",
       "      <td>7475327</td>\n",
       "      <td>2010-01-01 00:01:00</td>\n",
       "      <td>1556</td>\n",
       "      <td>2972</td>\n",
       "      <td>$-77.00</td>\n",
       "      <td>Swipe Transaction</td>\n",
       "      <td>59935</td>\n",
       "      <td>Beulah</td>\n",
       "      <td>ND</td>\n",
       "      <td>58523.0</td>\n",
       "      <td>5499</td>\n",
       "      <td>NaN</td>\n",
       "    </tr>\n",
       "    <tr>\n",
       "      <th>1</th>\n",
       "      <td>7475328</td>\n",
       "      <td>2010-01-01 00:02:00</td>\n",
       "      <td>561</td>\n",
       "      <td>4575</td>\n",
       "      <td>$14.57</td>\n",
       "      <td>Swipe Transaction</td>\n",
       "      <td>67570</td>\n",
       "      <td>Bettendorf</td>\n",
       "      <td>IA</td>\n",
       "      <td>52722.0</td>\n",
       "      <td>5311</td>\n",
       "      <td>NaN</td>\n",
       "    </tr>\n",
       "    <tr>\n",
       "      <th>2</th>\n",
       "      <td>7475329</td>\n",
       "      <td>2010-01-01 00:02:00</td>\n",
       "      <td>1129</td>\n",
       "      <td>102</td>\n",
       "      <td>$80.00</td>\n",
       "      <td>Swipe Transaction</td>\n",
       "      <td>27092</td>\n",
       "      <td>Vista</td>\n",
       "      <td>CA</td>\n",
       "      <td>92084.0</td>\n",
       "      <td>4829</td>\n",
       "      <td>NaN</td>\n",
       "    </tr>\n",
       "    <tr>\n",
       "      <th>3</th>\n",
       "      <td>7475331</td>\n",
       "      <td>2010-01-01 00:05:00</td>\n",
       "      <td>430</td>\n",
       "      <td>2860</td>\n",
       "      <td>$200.00</td>\n",
       "      <td>Swipe Transaction</td>\n",
       "      <td>27092</td>\n",
       "      <td>Crown Point</td>\n",
       "      <td>IN</td>\n",
       "      <td>46307.0</td>\n",
       "      <td>4829</td>\n",
       "      <td>NaN</td>\n",
       "    </tr>\n",
       "    <tr>\n",
       "      <th>4</th>\n",
       "      <td>7475332</td>\n",
       "      <td>2010-01-01 00:06:00</td>\n",
       "      <td>848</td>\n",
       "      <td>3915</td>\n",
       "      <td>$46.41</td>\n",
       "      <td>Swipe Transaction</td>\n",
       "      <td>13051</td>\n",
       "      <td>Harwood</td>\n",
       "      <td>MD</td>\n",
       "      <td>20776.0</td>\n",
       "      <td>5813</td>\n",
       "      <td>NaN</td>\n",
       "    </tr>\n",
       "  </tbody>\n",
       "</table>\n",
       "</div>"
      ],
      "text/plain": [
       "        id                 date  client_id  card_id   amount  \\\n",
       "0  7475327  2010-01-01 00:01:00       1556     2972  $-77.00   \n",
       "1  7475328  2010-01-01 00:02:00        561     4575   $14.57   \n",
       "2  7475329  2010-01-01 00:02:00       1129      102   $80.00   \n",
       "3  7475331  2010-01-01 00:05:00        430     2860  $200.00   \n",
       "4  7475332  2010-01-01 00:06:00        848     3915   $46.41   \n",
       "\n",
       "            use_chip  merchant_id merchant_city merchant_state      zip   mcc  \\\n",
       "0  Swipe Transaction        59935        Beulah             ND  58523.0  5499   \n",
       "1  Swipe Transaction        67570    Bettendorf             IA  52722.0  5311   \n",
       "2  Swipe Transaction        27092         Vista             CA  92084.0  4829   \n",
       "3  Swipe Transaction        27092   Crown Point             IN  46307.0  4829   \n",
       "4  Swipe Transaction        13051       Harwood             MD  20776.0  5813   \n",
       "\n",
       "  errors  \n",
       "0    NaN  \n",
       "1    NaN  \n",
       "2    NaN  \n",
       "3    NaN  \n",
       "4    NaN  "
      ]
     },
     "execution_count": 1,
     "metadata": {},
     "output_type": "execute_result"
    }
   ],
   "source": [
    "#import libraries\n",
    "import pandas as pd\n",
    "import numpy as np\n",
    "from pathlib import Path\n",
    "\n",
    "#create variable for filepath\n",
    "RAW = Path(\"../data/raw/caixa/transactions_data.csv\")\n",
    "\n",
    "#load first 5k rows and print first 5\n",
    "top = pd.read_csv(RAW, nrows=5000)\n",
    "top.head()\n"
   ]
  },
  {
   "cell_type": "code",
   "execution_count": 2,
   "id": "18b3d131",
   "metadata": {},
   "outputs": [
    {
     "data": {
      "text/plain": [
       "id                  int64\n",
       "date               object\n",
       "client_id           int64\n",
       "card_id             int64\n",
       "amount             object\n",
       "use_chip           object\n",
       "merchant_id         int64\n",
       "merchant_city      object\n",
       "merchant_state     object\n",
       "zip               float64\n",
       "mcc                 int64\n",
       "errors             object\n",
       "dtype: object"
      ]
     },
     "execution_count": 2,
     "metadata": {},
     "output_type": "execute_result"
    }
   ],
   "source": [
    "#get the data type for each attribute\n",
    "top.dtypes"
   ]
  },
  {
   "cell_type": "markdown",
   "id": "9973a82d",
   "metadata": {},
   "source": [
    "### Create a data type map\n",
    "\n",
    "This map makes pandas read these columns as string values. Having the 'amount' field in this form allows for removing unwanted characters, such as '€', from the fields later on"
   ]
  },
  {
   "cell_type": "code",
   "execution_count": 3,
   "id": "de639ab1",
   "metadata": {},
   "outputs": [],
   "source": [
    "#create a map so that pandas reads these as string for speed and to avoid overflow warnings\n",
    "dtype_map = {\n",
    "        \"card_id\":    \"string\",\n",
    "        \"merchant_id\":    \"string\",\n",
    "        \"use_chip\":    \"string\",\n",
    "        \"amount\":    \"string\",\n",
    "        \"zip\":    \"string\"\n",
    "    }"
   ]
  },
  {
   "cell_type": "markdown",
   "id": "5fc48d39",
   "metadata": {},
   "source": [
    "### Loop to clean data in sections (200,000 rows at a time)\n",
    "\n",
    "For each section:\n",
    " - filter for card present transactions\n",
    " - remove rows with errors\n",
    " - remove all charatcers except decimals 1-9, decimal points, and minus signs\n",
    " - rename the date column to timestamp to be more clear\n",
    " - remove unecessary columns\n",
    "\n",
    "Then combine all of the sections and write it to a new CSV file"
   ]
  },
  {
   "cell_type": "code",
   "execution_count": 4,
   "id": "18f04f64",
   "metadata": {},
   "outputs": [
    {
     "name": "stdout",
     "output_type": "stream",
     "text": [
      "rows kept: 6863647\n"
     ]
    }
   ],
   "source": [
    "dataset = pd.read_csv(RAW, dtype=dtype_map, chunksize=200000, parse_dates=[\"date\"])\n",
    "cleaned_ds = []\n",
    "cols_to_keep = [\n",
    "    \"timestamp\",\n",
    "    \"card_id\",\n",
    "    \"merchant_id\",\n",
    "    \"amount\",\n",
    "    \"mcc\",\n",
    "    \"merchant_city\",\n",
    "    \"merchant_state\",\n",
    "    \"zip\"\n",
    "]\n",
    "\n",
    "#loop through each section\n",
    "for chunk in dataset:\n",
    "    #remove any card not present transactions (online or NaN) and copy the rest back to section\n",
    "    chunk = chunk[chunk[\"use_chip\"].str.contains(\"swipe\", case=False, na=False)]\n",
    "\n",
    "    #reformat the amount column to only contain the number, € or $\n",
    "    chunk[\"amount\"] = (\n",
    "        #replace everything except the digits 0-9 and the characters '.' and '-', with nothing\n",
    "        chunk[\"amount\"].str.replace(r\"[^\\d.\\-]\", \"\", regex =True)\n",
    "        #if doing so leaves the amount blank, make it NaN\n",
    "        .replace(\"\", np.nan)\n",
    "        #make the amount a floating point number\n",
    "        .astype(\"float32\")\n",
    "    )\n",
    "\n",
    "    #drop any rows that still have no amount\n",
    "    chunk.dropna(subset=[\"amount\"], inplace=True)\n",
    "    #drop any rows with an error\n",
    "    chunk = chunk[ chunk[\"errors\"].isna() ]\n",
    "    #rename date column as timestamp\n",
    "    chunk.rename(columns={\"date\": \"timestamp\"}, inplace=True)\n",
    "    #connect all cleaned data into a dataset\n",
    "    cleaned_ds.append(chunk[cols_to_keep])\n",
    "#store the cleaned data as a dataframe and write it to a csv file\n",
    "df = pd.concat(cleaned_ds, ignore_index=True)\n",
    "#sort into chronological order\n",
    "df.sort_values(\"timestamp\", inplace=True)\n",
    "#write to new file\n",
    "df.to_csv(\"../data/processed/caixa_pos_sorted.csv\", index=False)\n",
    "\n",
    "#check to see how many rows were kept\n",
    "print(\"rows kept:\", len(df))\n",
    "    "
   ]
  },
  {
   "cell_type": "markdown",
   "id": "03bd72a7",
   "metadata": {},
   "source": [
    "### Reload and check the new file\n",
    "\n",
    "Reload the new CSV file to memory, sort by timestamp and merchant id so velocity stats can be checked later\n",
    "\n",
    "Display the first few rows to ensure everything looks right"
   ]
  },
  {
   "cell_type": "code",
   "execution_count": 6,
   "id": "42b63b76",
   "metadata": {},
   "outputs": [
    {
     "data": {
      "text/html": [
       "<div>\n",
       "<style scoped>\n",
       "    .dataframe tbody tr th:only-of-type {\n",
       "        vertical-align: middle;\n",
       "    }\n",
       "\n",
       "    .dataframe tbody tr th {\n",
       "        vertical-align: top;\n",
       "    }\n",
       "\n",
       "    .dataframe thead th {\n",
       "        text-align: right;\n",
       "    }\n",
       "</style>\n",
       "<table border=\"1\" class=\"dataframe\">\n",
       "  <thead>\n",
       "    <tr style=\"text-align: right;\">\n",
       "      <th></th>\n",
       "      <th>timestamp</th>\n",
       "      <th>card_id</th>\n",
       "      <th>merchant_id</th>\n",
       "      <th>amount</th>\n",
       "      <th>mcc</th>\n",
       "      <th>merchant_city</th>\n",
       "      <th>merchant_state</th>\n",
       "      <th>zip</th>\n",
       "    </tr>\n",
       "  </thead>\n",
       "  <tbody>\n",
       "    <tr>\n",
       "      <th>3131955</th>\n",
       "      <td>2012-10-14 16:48:00</td>\n",
       "      <td>4565</td>\n",
       "      <td>1</td>\n",
       "      <td>144.74</td>\n",
       "      <td>7922</td>\n",
       "      <td>Attleboro Falls</td>\n",
       "      <td>MA</td>\n",
       "      <td>2763.0</td>\n",
       "    </tr>\n",
       "    <tr>\n",
       "      <th>571866</th>\n",
       "      <td>2010-07-14 12:10:00</td>\n",
       "      <td>201</td>\n",
       "      <td>2</td>\n",
       "      <td>204.96</td>\n",
       "      <td>4900</td>\n",
       "      <td>Orlando</td>\n",
       "      <td>FL</td>\n",
       "      <td>32811.0</td>\n",
       "    </tr>\n",
       "    <tr>\n",
       "      <th>1382860</th>\n",
       "      <td>2011-04-06 17:07:00</td>\n",
       "      <td>3069</td>\n",
       "      <td>2</td>\n",
       "      <td>55.84</td>\n",
       "      <td>4900</td>\n",
       "      <td>Orlando</td>\n",
       "      <td>FL</td>\n",
       "      <td>32811.0</td>\n",
       "    </tr>\n",
       "    <tr>\n",
       "      <th>2299612</th>\n",
       "      <td>2012-01-25 08:14:00</td>\n",
       "      <td>190</td>\n",
       "      <td>3</td>\n",
       "      <td>21.27</td>\n",
       "      <td>5912</td>\n",
       "      <td>New Britain</td>\n",
       "      <td>CT</td>\n",
       "      <td>6051.0</td>\n",
       "    </tr>\n",
       "    <tr>\n",
       "      <th>1845986</th>\n",
       "      <td>2011-09-02 13:12:00</td>\n",
       "      <td>3846</td>\n",
       "      <td>5</td>\n",
       "      <td>6.81</td>\n",
       "      <td>5411</td>\n",
       "      <td>Pleasant Prairie</td>\n",
       "      <td>WI</td>\n",
       "      <td>53158.0</td>\n",
       "    </tr>\n",
       "  </tbody>\n",
       "</table>\n",
       "</div>"
      ],
      "text/plain": [
       "                  timestamp  card_id  merchant_id  amount   mcc  \\\n",
       "3131955 2012-10-14 16:48:00     4565            1  144.74  7922   \n",
       "571866  2010-07-14 12:10:00      201            2  204.96  4900   \n",
       "1382860 2011-04-06 17:07:00     3069            2   55.84  4900   \n",
       "2299612 2012-01-25 08:14:00      190            3   21.27  5912   \n",
       "1845986 2011-09-02 13:12:00     3846            5    6.81  5411   \n",
       "\n",
       "            merchant_city merchant_state      zip  \n",
       "3131955   Attleboro Falls             MA   2763.0  \n",
       "571866            Orlando             FL  32811.0  \n",
       "1382860           Orlando             FL  32811.0  \n",
       "2299612       New Britain             CT   6051.0  \n",
       "1845986  Pleasant Prairie             WI  53158.0  "
      ]
     },
     "execution_count": 6,
     "metadata": {},
     "output_type": "execute_result"
    }
   ],
   "source": [
    "#reread the now sorted data to ensure it is correctly formatted\n",
    "#parse the timestamp column as dates (otherwise read as strings)\n",
    "df = pd.read_csv(\"../data/processed/caixa_pos_sorted.csv\", parse_dates=[\"timestamp\"])\n",
    "#sort by merhcant id and time\n",
    "df.sort_values([\"merchant_id\", \"timestamp\"], inplace=True)\n",
    "df.head()\n"
   ]
  },
  {
   "cell_type": "markdown",
   "id": "ab55ec0b",
   "metadata": {},
   "source": [
    "### Calculate the transaction velocity per merchant\n",
    "\n",
    "All the timestamps in this dataset are rounded to the nearest minute, 60s  buckets are the smallest windows that can be used\n",
    "\n",
    "Count unique card ids per merchant, per minute and look at the\n",
    "distribution (mean, std dev, 90 / 95 / 99th percentiles)"
   ]
  },
  {
   "cell_type": "code",
   "execution_count": 7,
   "id": "54a423c4",
   "metadata": {},
   "outputs": [
    {
     "data": {
      "text/plain": [
       "count    6.692434e+06\n",
       "mean     1.020404e+00\n",
       "std      1.478453e-01\n",
       "min      1.000000e+00\n",
       "50%      1.000000e+00\n",
       "90%      1.000000e+00\n",
       "95%      1.000000e+00\n",
       "99%      2.000000e+00\n",
       "max      6.000000e+00\n",
       "Name: card_id, dtype: float64"
      ]
     },
     "execution_count": 7,
     "metadata": {},
     "output_type": "execute_result"
    }
   ],
   "source": [
    "#create 60s bucket columnn to see how many trtansactions take place every minute\n",
    "df[\"bucket_60s\"] = df[\"timestamp\"].dt.floor(\"60s\")\n",
    "#group transactions by both merchant and card id to see how many different cards appear at merchant in bucket\n",
    "vel = (df.groupby([\"merchant_id\",\"bucket_60s\"])[\"card_id\"].nunique())\n",
    "#check mean, std dev., and 90,95,99 percentiles\n",
    "vel.describe(percentiles=[.90,.95,.99])"
   ]
  },
  {
   "cell_type": "markdown",
   "id": "44a50c8c",
   "metadata": {},
   "source": [
    "### Plot velocity distribution\n",
    "\n",
    "Using a histogram shows that there are rarely more than two different cards used at the same merchant in one minute\n",
    "\n",
    "This will be used as a baseline to compare to the Sparkov Dataset which is simulated and contains more velocity spikes"
   ]
  },
  {
   "cell_type": "code",
   "execution_count": 8,
   "id": "de80fa74",
   "metadata": {},
   "outputs": [
    {
     "data": {
      "image/png": "[encoded data removed]",
      "text/plain": [
       "<Figure size 700x400 with 1 Axes>"
      ]
     },
     "metadata": {},
     "output_type": "display_data"
    }
   ],
   "source": [
    "#draw histogram of velocity distribution\n",
    "import matplotlib.pyplot as plt\n",
    "vel.plot.hist(bins=10, figsize=(7,4))\n",
    "plt.xlabel(\"distinct cards / 60s at one merchant\")\n",
    "plt.title(\"Velocity distribution (card-present)\")\n",
    "plt.show()"
   ]
  },
  {
   "cell_type": "markdown",
   "id": "5eda5813",
   "metadata": {},
   "source": [
    "### What was learned\n",
    "\n",
    " - This CaixaBank swipe data showed that the 99 th percentile is ≤ 2 cards/minute\n",
    "  and the maximum unique cards in a minute is 6  \n",
    " - This shows that natural velocity spikes are very rare in this\n",
    "  real-world baseline\n",
    " - This makes this dataset good for false-positive testing"
   ]
  }
 ],
 "metadata": {
  "kernelspec": {
   "display_name": ".venv (3.11.13)",
   "language": "python",
   "name": "python3"
  },
  "language_info": {
   "codemirror_mode": {
    "name": "ipython",
    "version": 3
   },
   "file_extension": ".py",
   "mimetype": "text/x-python",
   "name": "python",
   "nbconvert_exporter": "python",
   "pygments_lexer": "ipython3",
   "version": "3.11.13"
  }
 },
 "nbformat": 4,
 "nbformat_minor": 5
}
